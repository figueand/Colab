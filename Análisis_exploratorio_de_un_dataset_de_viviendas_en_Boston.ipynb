{
  "nbformat": 4,
  "nbformat_minor": 0,
  "metadata": {
    "colab": {
      "provenance": []
    },
    "kernelspec": {
      "name": "python3",
      "display_name": "Python 3"
    },
    "language_info": {
      "name": "python"
    }
  },
  "cells": [
    {
      "cell_type": "markdown",
      "source": [
        "# **Título: Análisis exploratorio de un dataset de viviendas en Boston**\n",
        "\n",
        "**Introducción: **\n",
        "\n",
        "En este análisis exploratorio, se examinará un dataset de viviendas en Boston con el objetivo de comprender mejor las características y los precios de las propiedades. El dataset contiene información sobre 506 propiedades y se utilizarán técnicas de visualización y análisis de datos para extraer información valiosa del conjunto de datos.\n",
        "\n",
        "**Descripción de las variables:**\n",
        "\n",
        "*crim:* tasa de criminalidad per cápita por ciudad\n",
        "\n",
        "*zn:* proporción de tierra residencial zonificada para lotes de más de 25,000 pies cuadrados.\n",
        "\n",
        "*indus: *proporción de negocios no minoristas por ciudad.\n",
        "\n",
        "*chas:* variable ficticia de Charles River (= 1 si el tramo limita con el río; 0 en caso contrario)\n",
        "\n",
        "*nox:* concentración de óxidos nítricos (partes por 10 millones)\n",
        "\n",
        "*rm:* número promedio de habitaciones por vivienda.\n",
        "\n",
        "*age:* proporción de unidades ocupadas por sus propietarios construidas antes de 1940. \n",
        "\n",
        "*dis: *distancias ponderadas a cinco centros de empleo de Boston.\n",
        "\n",
        "*rad: * índice de accesibilidad a carreteras radiales.\n",
        "tax: tasa de impuesto a la propiedad de valor total por 10,000 dólares.\n",
        "\n",
        "*ptratio:* relación alumno-profesor por ciudad.\n",
        "\n",
        "*black:* 1000 (Bk - 0.63) ^ 2 donde Bk es la proporción de negros por ciudad.\n",
        "\n",
        "*lstat:* menor estatus de la población (porcentaje).\n",
        "\n",
        "*medv:* valor medio de las viviendas ocupadas por sus propietarios en miles de dólares.\n",
        "\n",
        "\n",
        "Estas variables representan diferentes características de las propiedades y su entorno, como la tasa de criminalidad, la calidad del aire, la accesibilidad a carreteras, la proporción de residentes de bajos ingresos, entre otras."
      ],
      "metadata": {
        "id": "QRNBFS0sQc3D"
      }
    },
    {
      "cell_type": "markdown",
      "source": [
        "**Importar librerías**"
      ],
      "metadata": {
        "id": "9ASq_zKIJdFs"
      }
    },
    {
      "cell_type": "code",
      "execution_count": null,
      "metadata": {
        "id": "qaUCW0RAJcO7"
      },
      "outputs": [],
      "source": [
        "import pandas as pd\n",
        "import matplotlib.pyplot as plt"
      ]
    },
    {
      "cell_type": "markdown",
      "source": [
        "**Cargar los datos**\n",
        "\n",
        "Se utilizará un dataset de precios de casas en Boston que se encuentra disponible en Kaggle"
      ],
      "metadata": {
        "id": "CIZnquXKJ3bq"
      }
    },
    {
      "cell_type": "code",
      "source": [
        "data = pd.read_csv('https://raw.githubusercontent.com/selva86/datasets/master/BostonHousing.csv')"
      ],
      "metadata": {
        "id": "ZgVOdiGcJ2x6"
      },
      "execution_count": null,
      "outputs": []
    },
    {
      "cell_type": "markdown",
      "source": [
        "**Exploración de datos**\n"
      ],
      "metadata": {
        "id": "3rHHoNQCKVPZ"
      }
    },
    {
      "cell_type": "code",
      "source": [
        "print(data.head())"
      ],
      "metadata": {
        "colab": {
          "base_uri": "https://localhost:8080/"
        },
        "id": "k-I7zqw2K3aO",
        "outputId": "761e87ac-23f0-4251-a610-7519d5add430"
      },
      "execution_count": null,
      "outputs": [
        {
          "output_type": "stream",
          "name": "stdout",
          "text": [
            "      crim    zn  indus  chas    nox     rm   age     dis  rad  tax  ptratio  \\\n",
            "0  0.00632  18.0   2.31     0  0.538  6.575  65.2  4.0900    1  296     15.3   \n",
            "1  0.02731   0.0   7.07     0  0.469  6.421  78.9  4.9671    2  242     17.8   \n",
            "2  0.02729   0.0   7.07     0  0.469  7.185  61.1  4.9671    2  242     17.8   \n",
            "3  0.03237   0.0   2.18     0  0.458  6.998  45.8  6.0622    3  222     18.7   \n",
            "4  0.06905   0.0   2.18     0  0.458  7.147  54.2  6.0622    3  222     18.7   \n",
            "\n",
            "        b  lstat  medv  \n",
            "0  396.90   4.98  24.0  \n",
            "1  396.90   9.14  21.6  \n",
            "2  392.83   4.03  34.7  \n",
            "3  394.63   2.94  33.4  \n",
            "4  396.90   5.33  36.2  \n"
          ]
        }
      ]
    },
    {
      "cell_type": "markdown",
      "source": [
        "**Descripción estadística**"
      ],
      "metadata": {
        "id": "-mtMtbI0K-47"
      }
    },
    {
      "cell_type": "code",
      "source": [
        "print(data.describe())"
      ],
      "metadata": {
        "colab": {
          "base_uri": "https://localhost:8080/"
        },
        "id": "JjJ86F9SLFqy",
        "outputId": "479d3446-72ca-415d-f621-b4a847aa183e"
      },
      "execution_count": null,
      "outputs": [
        {
          "output_type": "stream",
          "name": "stdout",
          "text": [
            "             crim          zn       indus        chas         nox          rm  \\\n",
            "count  506.000000  506.000000  506.000000  506.000000  506.000000  506.000000   \n",
            "mean     3.613524   11.363636   11.136779    0.069170    0.554695    6.284634   \n",
            "std      8.601545   23.322453    6.860353    0.253994    0.115878    0.702617   \n",
            "min      0.006320    0.000000    0.460000    0.000000    0.385000    3.561000   \n",
            "25%      0.082045    0.000000    5.190000    0.000000    0.449000    5.885500   \n",
            "50%      0.256510    0.000000    9.690000    0.000000    0.538000    6.208500   \n",
            "75%      3.677083   12.500000   18.100000    0.000000    0.624000    6.623500   \n",
            "max     88.976200  100.000000   27.740000    1.000000    0.871000    8.780000   \n",
            "\n",
            "              age         dis         rad         tax     ptratio           b  \\\n",
            "count  506.000000  506.000000  506.000000  506.000000  506.000000  506.000000   \n",
            "mean    68.574901    3.795043    9.549407  408.237154   18.455534  356.674032   \n",
            "std     28.148861    2.105710    8.707259  168.537116    2.164946   91.294864   \n",
            "min      2.900000    1.129600    1.000000  187.000000   12.600000    0.320000   \n",
            "25%     45.025000    2.100175    4.000000  279.000000   17.400000  375.377500   \n",
            "50%     77.500000    3.207450    5.000000  330.000000   19.050000  391.440000   \n",
            "75%     94.075000    5.188425   24.000000  666.000000   20.200000  396.225000   \n",
            "max    100.000000   12.126500   24.000000  711.000000   22.000000  396.900000   \n",
            "\n",
            "            lstat        medv  \n",
            "count  506.000000  506.000000  \n",
            "mean    12.653063   22.532806  \n",
            "std      7.141062    9.197104  \n",
            "min      1.730000    5.000000  \n",
            "25%      6.950000   17.025000  \n",
            "50%     11.360000   21.200000  \n",
            "75%     16.955000   25.000000  \n",
            "max     37.970000   50.000000  \n"
          ]
        }
      ]
    },
    {
      "cell_type": "markdown",
      "source": [
        "**Visualización de datos**"
      ],
      "metadata": {
        "id": "CcP5_s5-LLax"
      }
    },
    {
      "cell_type": "code",
      "source": [
        "plt.hist(data['medv'], bins=50)\n",
        "plt.xlabel('Precio medio de las viviendas (en miles de dólares)')\n",
        "plt.ylabel('Frecuencia')\n",
        "plt.show()"
      ],
      "metadata": {
        "colab": {
          "base_uri": "https://localhost:8080/",
          "height": 279
        },
        "id": "gdrK5L3pLV-b",
        "outputId": "eb339cba-99de-485d-e477-788c91164877"
      },
      "execution_count": null,
      "outputs": [
        {
          "output_type": "display_data",
          "data": {
            "text/plain": [
              "<Figure size 432x288 with 1 Axes>"
            ],
            "image/png": "[encoded data removed]"
          },
          "metadata": {
            "needs_background": "light"
          }
        }
      ]
    },
    {
      "cell_type": "markdown",
      "source": [
        "**Análisis de correlación**\n",
        "Relación entre cada una de las variables"
      ],
      "metadata": {
        "id": "mQJ3Y_LsLcTs"
      }
    },
    {
      "cell_type": "code",
      "source": [
        "corr_matrix = data.corr().round(2)\n",
        "print(corr_matrix)"
      ],
      "metadata": {
        "colab": {
          "base_uri": "https://localhost:8080/"
        },
        "id": "CDRwbNVsLuUU",
        "outputId": "357a1dd9-7d84-4864-802d-5dd26f3cc665"
      },
      "execution_count": null,
      "outputs": [
        {
          "output_type": "stream",
          "name": "stdout",
          "text": [
            "         crim    zn  indus  chas   nox    rm   age   dis   rad   tax  ptratio  \\\n",
            "crim     1.00 -0.20   0.41 -0.06  0.42 -0.22  0.35 -0.38  0.63  0.58     0.29   \n",
            "zn      -0.20  1.00  -0.53 -0.04 -0.52  0.31 -0.57  0.66 -0.31 -0.31    -0.39   \n",
            "indus    0.41 -0.53   1.00  0.06  0.76 -0.39  0.64 -0.71  0.60  0.72     0.38   \n",
            "chas    -0.06 -0.04   0.06  1.00  0.09  0.09  0.09 -0.10 -0.01 -0.04    -0.12   \n",
            "nox      0.42 -0.52   0.76  0.09  1.00 -0.30  0.73 -0.77  0.61  0.67     0.19   \n",
            "rm      -0.22  0.31  -0.39  0.09 -0.30  1.00 -0.24  0.21 -0.21 -0.29    -0.36   \n",
            "age      0.35 -0.57   0.64  0.09  0.73 -0.24  1.00 -0.75  0.46  0.51     0.26   \n",
            "dis     -0.38  0.66  -0.71 -0.10 -0.77  0.21 -0.75  1.00 -0.49 -0.53    -0.23   \n",
            "rad      0.63 -0.31   0.60 -0.01  0.61 -0.21  0.46 -0.49  1.00  0.91     0.46   \n",
            "tax      0.58 -0.31   0.72 -0.04  0.67 -0.29  0.51 -0.53  0.91  1.00     0.46   \n",
            "ptratio  0.29 -0.39   0.38 -0.12  0.19 -0.36  0.26 -0.23  0.46  0.46     1.00   \n",
            "b       -0.39  0.18  -0.36  0.05 -0.38  0.13 -0.27  0.29 -0.44 -0.44    -0.18   \n",
            "lstat    0.46 -0.41   0.60 -0.05  0.59 -0.61  0.60 -0.50  0.49  0.54     0.37   \n",
            "medv    -0.39  0.36  -0.48  0.18 -0.43  0.70 -0.38  0.25 -0.38 -0.47    -0.51   \n",
            "\n",
            "            b  lstat  medv  \n",
            "crim    -0.39   0.46 -0.39  \n",
            "zn       0.18  -0.41  0.36  \n",
            "indus   -0.36   0.60 -0.48  \n",
            "chas     0.05  -0.05  0.18  \n",
            "nox     -0.38   0.59 -0.43  \n",
            "rm       0.13  -0.61  0.70  \n",
            "age     -0.27   0.60 -0.38  \n",
            "dis      0.29  -0.50  0.25  \n",
            "rad     -0.44   0.49 -0.38  \n",
            "tax     -0.44   0.54 -0.47  \n",
            "ptratio -0.18   0.37 -0.51  \n",
            "b        1.00  -0.37  0.33  \n",
            "lstat   -0.37   1.00 -0.74  \n",
            "medv     0.33  -0.74  1.00  \n"
          ]
        }
      ]
    },
    {
      "cell_type": "markdown",
      "source": [
        "**Diagrama de dispersión**\n",
        "\n",
        "Diagrama de dispersión entre el precio de las casas (medv) y la tasa de criminalidad en la zona (crim)"
      ],
      "metadata": {
        "id": "K3eV2DmfLwlr"
      }
    },
    {
      "cell_type": "code",
      "source": [
        "plt.scatter(data['crim'], data['medv'])\n",
        "plt.xlabel('Tasa de criminalidad')\n",
        "plt.ylabel('Precio medio de las viviendas (en miles de dólares)')\n",
        "plt.show()"
      ],
      "metadata": {
        "colab": {
          "base_uri": "https://localhost:8080/",
          "height": 279
        },
        "id": "BnRiT4ieOqJx",
        "outputId": "8ef31e27-0258-468b-b8f7-2dac5e9dddab"
      },
      "execution_count": null,
      "outputs": [
        {
          "output_type": "display_data",
          "data": {
            "text/plain": [
              "<Figure size 432x288 with 1 Axes>"
            ],
            "image/png": "[encoded data removed]"
          },
          "metadata": {
            "needs_background": "light"
          }
        }
      ]
    },
    {
      "cell_type": "markdown",
      "source": [
        "**Coeficiente de correlación de Pearson**\n",
        "\n",
        "Coeficiente de correlación de Pearson entre el precio de las casas (medv) y la tasa de criminalidad en la zona (crim)"
      ],
      "metadata": {
        "id": "j-wEitUkOwYU"
      }
    },
    {
      "cell_type": "code",
      "source": [
        "from scipy.stats import pearsonr\n",
        "\n",
        "corr, p_value = pearsonr(data['crim'], data['medv'])\n",
        "print(\"Coeficiente de correlación de Pearson: \", corr)"
      ],
      "metadata": {
        "colab": {
          "base_uri": "https://localhost:8080/"
        },
        "id": "vEFMYx8kPdhG",
        "outputId": "a20a265f-d02e-4803-9a1a-5169a755b377"
      },
      "execution_count": null,
      "outputs": [
        {
          "output_type": "stream",
          "name": "stdout",
          "text": [
            "Coeficiente de correlación de Pearson:  -0.38830460858681154\n"
          ]
        }
      ]
    },
    {
      "cell_type": "markdown",
      "source": [
        "**Coeficiente de correlación de Spearman**\n",
        "\n",
        "Coeficiente de correlación de Spearman entre el precio de las casas (medv) y la cantidad de habitaciones promedio por casa (rm)"
      ],
      "metadata": {
        "id": "qgS6GhWRPsqk"
      }
    },
    {
      "cell_type": "code",
      "source": [
        "from scipy.stats import spearmanr\n",
        "\n",
        "corr, p_value = spearmanr(data['rm'], data['medv'])\n",
        "print(\"Coeficiente de correlación de Spearman: \", corr)"
      ],
      "metadata": {
        "colab": {
          "base_uri": "https://localhost:8080/"
        },
        "id": "NM-vjkNBP8mN",
        "outputId": "d084947d-0d5c-4ff5-b9f6-080024b35048"
      },
      "execution_count": null,
      "outputs": [
        {
          "output_type": "stream",
          "name": "stdout",
          "text": [
            "Coeficiente de correlación de Spearman:  0.6335764254337745\n"
          ]
        }
      ]
    }
  ]
}