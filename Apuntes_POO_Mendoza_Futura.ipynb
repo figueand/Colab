{
  "nbformat": 4,
  "nbformat_minor": 0,
  "metadata": {
    "colab": {
      "provenance": [],
      "toc_visible": true,
      "authorship_tag": "ABX9TyP61yoHgDkIZXGxOCa9MRZ6",
      "include_colab_link": true
    },
    "kernelspec": {
      "name": "python3",
      "display_name": "Python 3"
    },
    "language_info": {
      "name": "python"
    }
  },
  "cells": [
    {
      "cell_type": "markdown",
      "metadata": {
        "id": "view-in-github",
        "colab_type": "text"
      },
      "source": [
        "<a href=\"https://colab.research.google.com/github/figueand/Colab/blob/main/Apuntes_POO_Mendoza_Futura.ipynb\" target=\"_parent\"><img src=\"https://colab.research.google.com/assets/colab-badge.svg\" alt=\"Open In Colab\"/></a>"
      ]
    },
    {
      "cell_type": "markdown",
      "source": [
        "La Programación Orientada a Objetos (POO) es un paradigma de programación que se centra en la creación de objetos que contienen datos y métodos para interactuar con ellos. En la POO, los objetos son instancias de una clase, que es una plantilla o modelo que define las características y comportamientos comunes a todos los objetos de ese tipo. Los objetos interactúan entre sí enviando mensajes, lo que se logra mediante la invocación de métodos de un objeto a otro.\n"
      ],
      "metadata": {
        "id": "tvg-ODEdpQDN"
      }
    },
    {
      "cell_type": "code",
      "source": [
        "class MiClase:\n",
        "  def __init__(self, nombre):  #Se crea una con el método __init__ (constructor) se crea un objeto de la clase, que recibe un parametro \n",
        "    self.nombre = nombre\n",
        "\n",
        "  def saludar(self):\n",
        "    print(\"Hola, soy\", self.nombre)\n"
      ],
      "metadata": {
        "id": "MQ7KgniDpMqf"
      },
      "execution_count": 1,
      "outputs": []
    },
    {
      "cell_type": "code",
      "source": [
        "mi_instancia = MiClase(\"Juan\") #Se crea una instancia de la clase/Objeto especifo de la clase\n",
        "\n",
        "mi_instancia.saludar() Y se ejecuta.\n"
      ],
      "metadata": {
        "colab": {
          "base_uri": "https://localhost:8080/"
        },
        "id": "R2uOe_KIqIxw",
        "outputId": "f36e663c-3adf-4727-d0a1-8bfb9b702149"
      },
      "execution_count": 2,
      "outputs": [
        {
          "output_type": "stream",
          "name": "stdout",
          "text": [
            "Hola, soy Juan\n"
          ]
        }
      ]
    },
    {
      "cell_type": "markdown",
      "source": [
        "La POO se utiliza ampliamente en muchos lenguajes de programación, incluyendo Java, C++, Python y muchos otros. Al utilizar la POO, los programadores pueden escribir código más modular, fácil de entender y fácil de mantener."
      ],
      "metadata": {
        "id": "Ulpmb0N6rf7B"
      }
    },
    {
      "cell_type": "markdown",
      "source": [
        "# Principios fundamentales de POO\n",
        "\n",
        "## Encapsulamiento: \n",
        "se refiere a la capacidad de una clase para ocultar sus datos y métodos internos de acceso externo. Los datos internos de una clase solo pueden ser accedidos y modificados por los métodos definidos dentro de la misma clase. Esto evita que los datos sean manipulados de manera incorrecta desde fuera de la clase, lo que aumenta la seguridad y la eficiencia del programa.\n",
        "\n",
        "## Herencia: \n",
        "se refiere a la capacidad de una clase para heredar atributos y métodos de una clase padre o base. La clase hija o derivada hereda los atributos y métodos de la clase padre, y puede agregar o modificar los atributos y métodos según sea necesario. Esto permite la reutilización del código, ya que se pueden crear nuevas clases que comparten características con una clase existente sin tener que escribir todo el código desde cero.\n",
        "\n",
        "## Polimorfismo: \n",
        "se refiere a la capacidad de objetos de diferentes clases para responder al mismo mensaje de diferentes maneras. Esto significa que se pueden utilizar varios objetos en el mismo código, y el comportamiento de cada objeto será diferente según la clase a la que pertenezca. El polimorfismo aumenta la flexibilidad y la modularidad del código, ya que los objetos pueden ser tratados de manera genérica sin conocer los detalles de su clase.\n",
        "\n",
        "## Abstracción: \n",
        "se refiere a la capacidad de representar conceptos complejos en forma de objetos simplificados y concretos. Esto significa que se pueden crear objetos que representen entidades del mundo real, como personas, automóviles o cuentas bancarias. Estos objetos se crean a partir de una clase que define sus características y comportamientos comunes, lo que permite una fácil manipulación de estos objetos en el programa. La abstracción aumenta la claridad y la legibilidad del código, ya que permite a los programadores centrarse en las características y comportamientos esenciales de un objeto."
      ],
      "metadata": {
        "id": "SYb2kEGm9dVy"
      }
    },
    {
      "cell_type": "markdown",
      "source": [
        "###Ejemplo de encapsulamiento 1\n",
        "Un ejemplo de encapsulamiento en Python es el uso de los atributos de clase privados. En Python, los atributos de una clase se pueden marcar como privados agregando un guión bajo (_) antes de su nombre. Esto indica que el atributo solo debe ser accesible desde dentro de la clase y no desde fuera. Para acceder a un atributo privado, se puede definir un método dentro de la clase que lo devuelva o lo modifique.\n"
      ],
      "metadata": {
        "id": "VL6hM-0s-ZCn"
      }
    },
    {
      "cell_type": "code",
      "source": [
        "class CuentaBancaria:\n",
        "    \n",
        "    def __init__(self, titular, saldo):\n",
        "        self.__titular = titular\n",
        "        self.__saldo = saldo\n",
        "    \n",
        "    def depositar(self, monto):\n",
        "        self.__saldo += monto\n",
        "        \n",
        "    def retirar(self, monto):\n",
        "        if monto > self.__saldo:\n",
        "            print(\"No tiene suficiente saldo en su cuenta.\")\n",
        "        else:\n",
        "            self.__saldo -= monto\n",
        "            \n",
        "    def obtener_saldo(self):\n",
        "        return self.__saldo\n",
        "    \n",
        "\n",
        "cuenta = CuentaBancaria(\"Juan Perez\", 5000)\n",
        "print(cuenta.obtener_saldo())   # Output: 5000\n",
        "cuenta.depositar(3000)\n",
        "print(cuenta.obtener_saldo())   # Output: 8000\n",
        "cuenta.retirar(10000)   "
      ],
      "metadata": {
        "colab": {
          "base_uri": "https://localhost:8080/"
        },
        "id": "AGy9kPZ892a1",
        "outputId": "ed412f29-b3d6-47fb-836c-24c16caa2044"
      },
      "execution_count": 3,
      "outputs": [
        {
          "output_type": "stream",
          "name": "stdout",
          "text": [
            "5000\n",
            "8000\n",
            "No tiene suficiente saldo en su cuenta.\n"
          ]
        }
      ]
    },
    {
      "cell_type": "markdown",
      "source": [
        "En este ejemplo, la clase CuentaBancaria tiene dos atributos privados __titular y __saldo, y tres métodos públicos depositar, retirar y obtener_saldo. Los métodos depositar y retirar modifican el atributo __saldo, mientras que el método obtener_saldo devuelve el valor del atributo __saldo. Los atributos privados solo pueden ser accedidos y modificados desde dentro de la clase, lo que garantiza que los datos internos de la clase estén protegidos contra manipulaciones externas."
      ],
      "metadata": {
        "id": "EVNPnyIc-8Jk"
      }
    },
    {
      "cell_type": "markdown",
      "source": [
        "###Ejemplo de encapsulamiento 2\n"
      ],
      "metadata": {
        "id": "3m-OZiKa_yPB"
      }
    },
    {
      "cell_type": "code",
      "source": [
        "class Persona:\n",
        "    def __init__(self, nombre, edad):\n",
        "        self._nombre = nombre\n",
        "        self._edad = edad\n",
        "    \n",
        "    def get_nombre(self):\n",
        "        return self._nombre\n",
        "    \n",
        "    def set_nombre(self, nombre):\n",
        "        self._nombre = nombre\n",
        "        \n",
        "    def get_edad(self):\n",
        "        return self._edad\n",
        "    \n",
        "    def set_edad(self, edad):\n",
        "        self._edad = edad"
      ],
      "metadata": {
        "id": "C4xc9yo1_wzv"
      },
      "execution_count": 4,
      "outputs": []
    },
    {
      "cell_type": "markdown",
      "source": [
        "En este ejemplo, los atributos \"nombre\" y \"edad\" se marcan como privados con el guión bajo. Los métodos \"get_nombre()\", \"set_nombre()\", \"get_edad()\" y \"set_edad()\" se definen para acceder y modificar estos atributos desde dentro de la clase.\n",
        "\n",
        "En lugar de acceder directamente a los atributos privados de la clase, se utilizan estos métodos de acceso y modificación para garantizar que los valores sean manipulados de forma controlada y segura desde dentro de la clase. Esto protege los datos internos de la clase de accesos o manipulaciones no autorizadas desde fuera de la misma."
      ],
      "metadata": {
        "id": "NZFpACx_AKTG"
      }
    },
    {
      "cell_type": "code",
      "source": [
        "persona1= Persona(\"Andres\",34)\n",
        "nombre1= input(\"Ingrese nombre  \")\n",
        "persona1.set_nombre(nombre1)\n",
        "edad1= int(input(\"Ingrese edad  \"))\n",
        "persona1.set_edad(edad1)\n",
        "\n",
        "print(persona1) #Imprime el espacio de memoria donde se encuentra esa variable\n",
        "print(persona1.get_nombre()) #Imprime atributo nombre de persona1\n",
        "print(persona1.get_edad()) #Imprime atributo edad de persona1\n"
      ],
      "metadata": {
        "colab": {
          "base_uri": "https://localhost:8080/"
        },
        "id": "VScAausoDw79",
        "outputId": "258b7c1a-0a6d-45ee-fce8-2e557b4ea5d1"
      },
      "execution_count": 5,
      "outputs": [
        {
          "output_type": "stream",
          "name": "stdout",
          "text": [
            "Ingrese nombre  123\n",
            "Ingrese edad  12312\n",
            "<__main__.Persona object at 0x7f472c245400>\n",
            "123\n",
            "12312\n"
          ]
        }
      ]
    },
    {
      "cell_type": "markdown",
      "source": [
        "###Ejemplo de Herencia 1\n",
        "En este ejemplo, la clase Animal es la clase base o clase padre, mientras que las clases Perro y Gato son las clases hijas o subclases. La clase Perro y Gato heredan el atributo nombre y el método hablar de la clase Animal.\n",
        "\n",
        "La subclase Perro sobrescribe el método hablar de la clase Animal para imprimir \"Guau! Soy un perro.\" en lugar de \"Este animal no puede hablar.\" La subclase Gato también sobrescribe el método hablar, pero en este caso imprime \"Miau! Soy un gato.\"\n",
        "\n",
        "Finalmente, se crean instancias de la subclase Perro y Gato, y se llama al método hablar de cada instancia. La salida del programa sería:\n"
      ],
      "metadata": {
        "id": "5Za60qF5ECz_"
      }
    },
    {
      "cell_type": "code",
      "source": [
        "class Animal:\n",
        "    def __init__(self, nombre):\n",
        "        self.nombre = nombre\n",
        "    \n",
        "    def hablar(self):\n",
        "        print(\"Este animal no puede hablar.\")\n",
        "\n",
        "class Perro(Animal):\n",
        "    def hablar(self):\n",
        "        print(\"Guau! Soy un perro.\")\n",
        "\n",
        "class Gato(Animal):\n",
        "    def hablar(self):\n",
        "        print(\"Miau! Soy un gato.\")"
      ],
      "metadata": {
        "id": "HtCDeVSREsiN"
      },
      "execution_count": 6,
      "outputs": []
    },
    {
      "cell_type": "code",
      "source": [
        "perro = Perro(\"Fido\")\n",
        "gato = Gato(\"Mittens\")\n",
        "\n",
        "print(perro.nombre)\n",
        "perro.hablar()\n",
        "\n",
        "print(gato.nombre)\n",
        "gato.hablar()"
      ],
      "metadata": {
        "colab": {
          "base_uri": "https://localhost:8080/"
        },
        "id": "HTw_zDtYE0ot",
        "outputId": "81d580e3-d6df-4b41-9800-a3eb9e6be22c"
      },
      "execution_count": 7,
      "outputs": [
        {
          "output_type": "stream",
          "name": "stdout",
          "text": [
            "Fido\n",
            "Guau! Soy un perro.\n",
            "Mittens\n",
            "Miau! Soy un gato.\n"
          ]
        }
      ]
    },
    {
      "cell_type": "markdown",
      "source": [
        "###Ejemplo de Herencia 2\n",
        "La herencia es una característica importante de la programación orientada a objetos (POO) que permite a una clase heredar atributos y métodos de otra clase. En Python, la sintaxis para definir una clase hija que hereda de una clase padre es la siguiente:"
      ],
      "metadata": {
        "id": "hN35Ito_FV7D"
      }
    },
    {
      "cell_type": "code",
      "source": [
        "class Padre:\n",
        "    def __init__(self, nombre):\n",
        "        self.nombre = nombre\n",
        "\n",
        "    def saludar(self):\n",
        "        print(f\"Hola, mi nombre es {self.nombre}.\")\n",
        "\n",
        "class Hijo(Padre):\n",
        "    def __init__(self, nombre, edad):\n",
        "        super().__init__(nombre)\n",
        "        self.edad = edad\n",
        "\n",
        "    def presentar(self):\n",
        "        print(f\"Mi nombre es {self.nombre} y tengo {self.edad} años.\") #Se utiliza f-string para imprimir en una sola linea\n",
        "\n",
        "hijo = Hijo(\"Juan\", 10)\n",
        "hijo.saludar()\n",
        "hijo.presentar()"
      ],
      "metadata": {
        "colab": {
          "base_uri": "https://localhost:8080/"
        },
        "id": "SL5XuHq0FhXx",
        "outputId": "bfcdbe4c-4975-4a11-d013-e0d9b2c52031"
      },
      "execution_count": 8,
      "outputs": [
        {
          "output_type": "stream",
          "name": "stdout",
          "text": [
            "Hola, mi nombre es Juan.\n",
            "Mi nombre es Juan y tengo 10 años.\n"
          ]
        }
      ]
    },
    {
      "cell_type": "markdown",
      "source": [
        "###Ejemplo de Polimorfismo\n",
        "El polimorfismo es una característica importante de la programación orientada a objetos que permite a los objetos de diferentes clases responder al mismo mensaje o método de manera diferente. En Python, el polimorfismo se puede lograr a través de la herencia y el uso de métodos con el mismo nombre en diferentes clases.\n",
        "\n",
        "Por ejemplo, considere las siguientes clases en Python:\n"
      ],
      "metadata": {
        "id": "PpiQJ5eOGQ8a"
      }
    },
    {
      "cell_type": "code",
      "source": [
        "class Animal:\n",
        "    def hacer_sonido(self):\n",
        "        pass\n",
        "\n",
        "class Perro(Animal):\n",
        "    def hacer_sonido(self):\n",
        "        print(\"Guau\")\n",
        "\n",
        "class Gato(Animal):\n",
        "    def hacer_sonido(self):\n",
        "        print(\"Miau\")\n"
      ],
      "metadata": {
        "id": "L-rqCj-vG269"
      },
      "execution_count": 9,
      "outputs": []
    },
    {
      "cell_type": "markdown",
      "source": [
        "En este ejemplo, la clase Animal es la clase base, y las clases Perro y Gato son subclases que heredan de Animal. Cada clase tiene un método hacer_sonido que imprime un sonido diferente.\n",
        "\n",
        "Ahora, puede crear objetos de estas clases y llamar al método hacer_sonido en cada uno:"
      ],
      "metadata": {
        "id": "hMwd8mIlG9XZ"
      }
    },
    {
      "cell_type": "code",
      "source": [
        "animal = Animal()\n",
        "animal.hacer_sonido()  # no hace nada\n",
        "\n",
        "perro = Perro()\n",
        "perro.hacer_sonido()  # imprime \"Guau\"\n",
        "\n",
        "gato = Gato()\n",
        "gato.hacer_sonido()  # imprime \"Miau\"\n"
      ],
      "metadata": {
        "colab": {
          "base_uri": "https://localhost:8080/"
        },
        "id": "aKUOEcsSG55Q",
        "outputId": "fb681b7f-1c7b-4ded-c4f2-9b26f9c2440f"
      },
      "execution_count": 10,
      "outputs": [
        {
          "output_type": "stream",
          "name": "stdout",
          "text": [
            "Guau\n",
            "Miau\n"
          ]
        }
      ]
    },
    {
      "cell_type": "markdown",
      "source": [
        "##Ejemplo de abstracción\n",
        "Supongamos que estás desarrollando un juego de estrategia en el que los jugadores pueden crear diferentes tipos de edificios. Cada edificio tiene ciertas características, como su nivel de salud, su costo, su tiempo de construcción, etc. Además, cada edificio puede producir diferentes tipos de recursos, como oro, madera, piedra, etc.\n",
        "\n",
        "Para modelar esta situación en Python, puedes utilizar la abstracción para crear una clase base Edificio que define una interfaz común y métodos abstractos que deben implementarse en las subclases. La clase Edificio también puede definir algunas propiedades comunes a todos los edificios, como su nivel de salud y costo."
      ],
      "metadata": {
        "id": "CKCV51veJ_kW"
      }
    },
    {
      "cell_type": "code",
      "source": [
        "from abc import ABC, abstractmethod\n",
        "\n",
        "class Edificio(ABC):\n",
        "    def __init__(self, salud, costo):\n",
        "        self.salud = salud\n",
        "        self.costo = costo\n",
        "\n",
        "    @abstractmethod\n",
        "    def producir_recurso(self):\n",
        "        pass\n",
        "\n",
        "    @abstractmethod\n",
        "    def tiempo_construccion(self):\n",
        "        pass\n",
        "\n",
        "        "
      ],
      "metadata": {
        "id": "smM4Vk-tLhH7"
      },
      "execution_count": 12,
      "outputs": []
    },
    {
      "cell_type": "markdown",
      "source": [
        "En este ejemplo, la clase Edificio es una clase abstracta que define dos métodos abstractos: producir_recurso y tiempo_construccion. Estos métodos no tienen una implementación real en la clase abstracta, y se espera que las subclases implementen estos métodos de manera adecuada. La clase Edificio también define dos propiedades comunes a todos los edificios: su nivel de salud y costo.\n",
        "\n",
        "A continuación, puedes crear dos subclases de Edificio: Torre y Mina. La clase Torre produce oro y tiene un tiempo de construcción de 3 minutos, mientras que la clase Mina produce piedra y tiene un tiempo de construcción de 5 minutos"
      ],
      "metadata": {
        "id": "fkOAB92HLqbM"
      }
    },
    {
      "cell_type": "code",
      "source": [
        "class Torre(Edificio):\n",
        "    def producir_recurso(self):\n",
        "        return \"Oro\"\n",
        "\n",
        "    def tiempo_construccion(self):\n",
        "        return 3\n",
        "\n",
        "\n",
        "class Mina(Edificio):\n",
        "    def producir_recurso(self):\n",
        "        return \"Piedra\"\n",
        "\n",
        "    def tiempo_construccion(self):\n",
        "        return 5"
      ],
      "metadata": {
        "id": "SRutSknDLvXR"
      },
      "execution_count": 13,
      "outputs": []
    },
    {
      "cell_type": "markdown",
      "source": [
        "En este ejemplo, las clases Torre y Mina son subclases de Edificio y proporcionan implementaciones para los métodos abstractos producir_recurso y tiempo_construccion.\n",
        "\n",
        "Ahora, puedes crear objetos de las clases Torre y Mina y llamar a los métodos producir_recurso y tiempo_construccion para producir recursos y obtener el tiempo de construcción respectivo:"
      ],
      "metadata": {
        "id": "_dqPzYtgMEjS"
      }
    },
    {
      "cell_type": "code",
      "source": [
        "torre = Torre(100, 50)\n",
        "mina = Mina(150, 75)\n",
        "\n",
        "print(torre.producir_recurso())  # imprime \"Oro\"\n",
        "print(torre.tiempo_construccion())  # imprime 3\n",
        "\n",
        "print(mina.producir_recurso())  # imprime \"Piedra\"\n",
        "print(mina.tiempo_construccion())  # imprime 5"
      ],
      "metadata": {
        "colab": {
          "base_uri": "https://localhost:8080/"
        },
        "id": "b8Y2vJU0MFy5",
        "outputId": "bc8fa591-e4ac-40b3-a52e-2e1dd5e2a655"
      },
      "execution_count": 14,
      "outputs": [
        {
          "output_type": "stream",
          "name": "stdout",
          "text": [
            "Oro\n",
            "3\n",
            "Piedra\n",
            "5\n"
          ]
        }
      ]
    },
    {
      "cell_type": "markdown",
      "source": [
        "En este ejemplo, la clase abstracta Edificio oculta los detalles de implementación de las clases Torre y Mina y solo expone las interfaces relevantes y útiles para el usuario, lo que demuestra el concepto de abstracción."
      ],
      "metadata": {
        "id": "w029WW9VMUfZ"
      }
    }
  ]
}